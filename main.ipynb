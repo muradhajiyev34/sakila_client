{
 "cells": [
  {
   "cell_type": "code",
   "execution_count": 1,
   "id": "ebaa8bdc-b46b-4f37-bff4-7eec84604c87",
   "metadata": {},
   "outputs": [
    {
     "name": "stdout",
     "output_type": "stream",
     "text": [
      "MENU\n",
      "[1] Get films by title\n",
      "[2] Get films by genre\n",
      "[3] Get films by year\n",
      "[4] Get top 10 search queries\n",
      "[0] Exit\n"
     ]
    },
    {
     "name": "stdin",
     "output_type": "stream",
     "text": [
      ">>  4\n"
     ]
    },
    {
     "name": "stdout",
     "output_type": "stream",
     "text": [
      "Query by title with key 'home' - 4 times\n",
      "Query by title with key 'hello' - 2 times\n",
      "Query by genre with name 'Action' - 1 times\n",
      "MENU\n",
      "[1] Get films by title\n",
      "[2] Get films by genre\n",
      "[3] Get films by year\n",
      "[4] Get top 10 search queries\n",
      "[0] Exit\n"
     ]
    },
    {
     "name": "stdin",
     "output_type": "stream",
     "text": [
      ">>  3\n",
      "Input year:  2000\n"
     ]
    },
    {
     "name": "stdout",
     "output_type": "stream",
     "text": [
      "ALIEN CENTER\n",
      "BALLROOM MOCKINGBIRD\n",
      "BREAKING HOME\n",
      "BROOKLYN DESERT\n",
      "CONEHEADS SMOOCHY\n",
      "EGG IGBY\n",
      "FROGMEN BREAKING\n",
      "GROOVE FICTION\n",
      "HORROR REIGN\n",
      "INFORMER DOUBLE\n"
     ]
    },
    {
     "name": "stdin",
     "output_type": "stream",
     "text": [
      "Do you want to see next page? [Yes]:  n\n"
     ]
    },
    {
     "name": "stdout",
     "output_type": "stream",
     "text": [
      "MENU\n",
      "[1] Get films by title\n",
      "[2] Get films by genre\n",
      "[3] Get films by year\n",
      "[4] Get top 10 search queries\n",
      "[0] Exit\n"
     ]
    },
    {
     "name": "stdin",
     "output_type": "stream",
     "text": [
      ">>  4\n"
     ]
    },
    {
     "name": "stdout",
     "output_type": "stream",
     "text": [
      "Query by title with key 'home' - 4 times\n",
      "Query by title with key 'hello' - 2 times\n",
      "Query by year where year is 2000 - 1 times\n",
      "Query by genre with name 'Action' - 1 times\n",
      "MENU\n",
      "[1] Get films by title\n",
      "[2] Get films by genre\n",
      "[3] Get films by year\n",
      "[4] Get top 10 search queries\n",
      "[0] Exit\n"
     ]
    },
    {
     "name": "stdin",
     "output_type": "stream",
     "text": [
      ">>  3\n",
      "Input year:  2000\n"
     ]
    },
    {
     "name": "stdout",
     "output_type": "stream",
     "text": [
      "ALIEN CENTER\n",
      "BALLROOM MOCKINGBIRD\n",
      "BREAKING HOME\n",
      "BROOKLYN DESERT\n",
      "CONEHEADS SMOOCHY\n",
      "EGG IGBY\n",
      "FROGMEN BREAKING\n",
      "GROOVE FICTION\n",
      "HORROR REIGN\n",
      "INFORMER DOUBLE\n"
     ]
    },
    {
     "name": "stdin",
     "output_type": "stream",
     "text": [
      "Do you want to see next page? [Yes]:  n\n"
     ]
    },
    {
     "name": "stdout",
     "output_type": "stream",
     "text": [
      "MENU\n",
      "[1] Get films by title\n",
      "[2] Get films by genre\n",
      "[3] Get films by year\n",
      "[4] Get top 10 search queries\n",
      "[0] Exit\n"
     ]
    },
    {
     "name": "stdin",
     "output_type": "stream",
     "text": [
      ">>  4\n"
     ]
    },
    {
     "name": "stdout",
     "output_type": "stream",
     "text": [
      "Query by title with key 'home' - 4 times\n",
      "Query by year where year is 2000 - 2 times\n",
      "Query by title with key 'hello' - 2 times\n",
      "Query by genre with name 'Action' - 1 times\n",
      "MENU\n",
      "[1] Get films by title\n",
      "[2] Get films by genre\n",
      "[3] Get films by year\n",
      "[4] Get top 10 search queries\n",
      "[0] Exit\n"
     ]
    },
    {
     "name": "stdin",
     "output_type": "stream",
     "text": [
      ">>  3\n",
      "Input year:  2001\n"
     ]
    },
    {
     "name": "stdout",
     "output_type": "stream",
     "text": [
      "ANYTHING SAVANNAH\n",
      "CIRCUS YOUTH\n",
      "CLYDE THEORY\n",
      "COLDBLOODED DARLING\n",
      "DAZED PUNK\n",
      "EGYPT TENENBAUMS\n",
      "FREDDY STORM\n",
      "JAPANESE RUN\n",
      "MADIGAN DORADO\n",
      "MATRIX SNOWMAN\n"
     ]
    },
    {
     "name": "stdin",
     "output_type": "stream",
     "text": [
      "Do you want to see next page? [Yes]:  \n"
     ]
    },
    {
     "name": "stdout",
     "output_type": "stream",
     "text": [
      "MINORITY KISS\n",
      "PANTHER REDS\n",
      "PERFECT GROOVE\n",
      "ROCK INSTINCT\n",
      "ROOM ROMAN\n",
      "STATE WASTELAND\n",
      "SWEET BROTHERHOOD\n",
      "TIES HUNGER\n",
      "TRAIN BUNCH\n",
      "WEDDING APOLLO\n",
      "MENU\n",
      "[1] Get films by title\n",
      "[2] Get films by genre\n",
      "[3] Get films by year\n",
      "[4] Get top 10 search queries\n",
      "[0] Exit\n"
     ]
    },
    {
     "name": "stdin",
     "output_type": "stream",
     "text": [
      ">>  4\n"
     ]
    },
    {
     "name": "stdout",
     "output_type": "stream",
     "text": [
      "Query by title with key 'home' - 4 times\n",
      "Query by year where year is 2000 - 2 times\n",
      "Query by title with key 'hello' - 2 times\n",
      "Query by year where year is 2001 - 1 times\n",
      "Query by genre with name 'Action' - 1 times\n",
      "MENU\n",
      "[1] Get films by title\n",
      "[2] Get films by genre\n",
      "[3] Get films by year\n",
      "[4] Get top 10 search queries\n",
      "[0] Exit\n"
     ]
    },
    {
     "name": "stdin",
     "output_type": "stream",
     "text": [
      ">>  1\n",
      "Input title:  '\n"
     ]
    },
    {
     "name": "stdout",
     "output_type": "stream",
     "text": [
      "Error: (1064, \"You have an error in your SQL syntax; check the manual that corresponds to your MySQL server version for the right syntax to use near '%'' at line 1\")\n",
      "MENU\n",
      "[1] Get films by title\n",
      "[2] Get films by genre\n",
      "[3] Get films by year\n",
      "[4] Get top 10 search queries\n",
      "[0] Exit\n"
     ]
    },
    {
     "name": "stdin",
     "output_type": "stream",
     "text": [
      ">>  2\n"
     ]
    },
    {
     "name": "stdout",
     "output_type": "stream",
     "text": [
      "[1] Action\n",
      "[2] Animation\n",
      "[3] Children\n",
      "[4] Classics\n",
      "[5] Comedy\n",
      "[6] Documentary\n",
      "[7] Drama\n",
      "[8] Family\n",
      "[9] Foreign\n",
      "[10] Games\n",
      "[11] Horror\n",
      "[12] Music\n",
      "[13] New\n",
      "[14] Sci-Fi\n",
      "[15] Sports\n",
      "[16] Travel\n"
     ]
    },
    {
     "name": "stdin",
     "output_type": "stream",
     "text": [
      "Input genre id:  14\n"
     ]
    },
    {
     "name": "stdout",
     "output_type": "stream",
     "text": [
      "ANNIE IDENTITY\n",
      "ARMAGEDDON LOST\n",
      "ATTACKS HATE\n",
      "BADMAN DAWN\n",
      "BARBARELLA STREETCAR\n",
      "BEVERLY OUTLAW\n",
      "BINGO TALENTED\n",
      "BLINDNESS GUN\n",
      "CAMELOT VACATION\n",
      "CHAINSAW UPTOWN\n"
     ]
    },
    {
     "name": "stdin",
     "output_type": "stream",
     "text": [
      "Do you want to see next page? [Yes]:  \n"
     ]
    },
    {
     "name": "stdout",
     "output_type": "stream",
     "text": [
      "CHARADE DUFFEL\n",
      "CHARIOTS CONSPIRACY\n",
      "CHEAPER CLYDE\n",
      "CINCINATTI WHISPERER\n",
      "CITIZEN SHREK\n",
      "COLDBLOODED DARLING\n",
      "CONNECTICUT TRAMP\n",
      "CROWDS TELEMARK\n",
      "DAISY MENAGERIE\n",
      "DISTURBING SCARFACE\n"
     ]
    },
    {
     "name": "stdin",
     "output_type": "stream",
     "text": [
      "Do you want to see next page? [Yes]:  \n"
     ]
    },
    {
     "name": "stdout",
     "output_type": "stream",
     "text": [
      "DIVIDE MONSTER\n",
      "DOLLS RAGE\n",
      "ENGLISH BULWORTH\n",
      "EXPRESS LONELY\n",
      "EYES DRIVING\n",
      "FIDDLER LOST\n",
      "FISH OPUS\n",
      "FRISCO FORREST\n",
      "GARDEN ISLAND\n",
      "GOLDMINE TYCOON\n"
     ]
    },
    {
     "name": "stdin",
     "output_type": "stream",
     "text": [
      "Do you want to see next page? [Yes]:  n\n"
     ]
    },
    {
     "name": "stdout",
     "output_type": "stream",
     "text": [
      "MENU\n",
      "[1] Get films by title\n",
      "[2] Get films by genre\n",
      "[3] Get films by year\n",
      "[4] Get top 10 search queries\n",
      "[0] Exit\n"
     ]
    },
    {
     "name": "stdin",
     "output_type": "stream",
     "text": [
      ">>  4\n"
     ]
    },
    {
     "name": "stdout",
     "output_type": "stream",
     "text": [
      "Query by title with key 'home' - 4 times\n",
      "Query by year where year is 2000 - 2 times\n",
      "Query by title with key 'hello' - 2 times\n",
      "Query by year where year is 2001 - 1 times\n",
      "Query by genre with name 'Action' - 1 times\n",
      "Query by genre with name 'Sci-Fi' - 1 times\n",
      "MENU\n",
      "[1] Get films by title\n",
      "[2] Get films by genre\n",
      "[3] Get films by year\n",
      "[4] Get top 10 search queries\n",
      "[0] Exit\n"
     ]
    },
    {
     "name": "stdin",
     "output_type": "stream",
     "text": [
      ">>  2\n"
     ]
    },
    {
     "name": "stdout",
     "output_type": "stream",
     "text": [
      "[1] Action\n",
      "[2] Animation\n",
      "[3] Children\n",
      "[4] Classics\n",
      "[5] Comedy\n",
      "[6] Documentary\n",
      "[7] Drama\n",
      "[8] Family\n",
      "[9] Foreign\n",
      "[10] Games\n",
      "[11] Horror\n",
      "[12] Music\n",
      "[13] New\n",
      "[14] Sci-Fi\n",
      "[15] Sports\n",
      "[16] Travel\n"
     ]
    },
    {
     "name": "stdin",
     "output_type": "stream",
     "text": [
      "Input genre id:  20\n"
     ]
    },
    {
     "name": "stdout",
     "output_type": "stream",
     "text": [
      "Error: This genre number is not exist!\n",
      "MENU\n",
      "[1] Get films by title\n",
      "[2] Get films by genre\n",
      "[3] Get films by year\n",
      "[4] Get top 10 search queries\n",
      "[0] Exit\n"
     ]
    },
    {
     "name": "stdin",
     "output_type": "stream",
     "text": [
      ">>  2\n"
     ]
    },
    {
     "name": "stdout",
     "output_type": "stream",
     "text": [
      "[1] Action\n",
      "[2] Animation\n",
      "[3] Children\n",
      "[4] Classics\n",
      "[5] Comedy\n",
      "[6] Documentary\n",
      "[7] Drama\n",
      "[8] Family\n",
      "[9] Foreign\n",
      "[10] Games\n",
      "[11] Horror\n",
      "[12] Music\n",
      "[13] New\n",
      "[14] Sci-Fi\n",
      "[15] Sports\n",
      "[16] Travel\n"
     ]
    },
    {
     "name": "stdin",
     "output_type": "stream",
     "text": [
      "Input genre id:  action\n"
     ]
    },
    {
     "name": "stdout",
     "output_type": "stream",
     "text": [
      "Error: invalid literal for int() with base 10: 'action'\n",
      "MENU\n",
      "[1] Get films by title\n",
      "[2] Get films by genre\n",
      "[3] Get films by year\n",
      "[4] Get top 10 search queries\n",
      "[0] Exit\n"
     ]
    },
    {
     "name": "stdin",
     "output_type": "stream",
     "text": [
      ">>  0\n"
     ]
    }
   ],
   "source": [
    "import os\n",
    "from dotenv import load_dotenv\n",
    "from db import SakilaService\n",
    "from ui import UserInterface\n",
    "import constants as cn\n",
    "\n",
    "load_dotenv()\n",
    "\n",
    "config = {\n",
    "    \"host\": os.getenv(\"DB_HOST\"),\n",
    "    \"user\": os.getenv(\"DB_USER\"),\n",
    "    \"password\": os.getenv(\"DB_PASSWORD\"),\n",
    "    \"database\": os.getenv(\"DB_NAME\")\n",
    "}\n",
    "\n",
    "user_interface = UserInterface()\n",
    "\n",
    "sakila_service = None\n",
    "try:\n",
    "    sakila_service = SakilaService(config)\n",
    "    sakila_service.connect()\n",
    "except Exception as ex:\n",
    "    user_interface.print_error(str(ex))\n",
    "    exit(-1)\n",
    "\n",
    "while True:\n",
    "    user_interface.print_menu()\n",
    "    user_input = user_interface.get_user_input().strip()\n",
    "    if user_input == cn.GET_BY_TITLE_OPTION:\n",
    "        title = user_interface.get_user_input(\"Input title: \")\n",
    "        try:\n",
    "            films = sakila_service.get_films_by_title(title.lower())\n",
    "            user_interface.print_films(films)\n",
    "        except Exception as ex:\n",
    "            user_interface.print_error(str(ex))\n",
    "    elif user_input == cn.GET_BY_GENRE_OPTION:\n",
    "        try:\n",
    "            genres = sakila_service.get_genres()\n",
    "            user_interface.print_genres(genres)\n",
    "        except Exception as ex:\n",
    "            user_interface.print_error(str(ex))\n",
    "            continue\n",
    "        genre_id = user_interface.get_user_input(\"Input genre id: \")\n",
    "        try:\n",
    "            genre_name = None\n",
    "            for genre in genres:\n",
    "                if genre[\"category_id\"] == int(genre_id):\n",
    "                    genre_name = genre[\"name\"]\n",
    "                    break\n",
    "            if not genre_name:\n",
    "                user_interface.print_error(\"This genre number is not exist!\")\n",
    "                continue\n",
    "            films = sakila_service.get_films_by_genre(int(genre_id), genre_name)\n",
    "            user_interface.print_films(films)\n",
    "        except Exception as ex:\n",
    "            user_interface.print_error(str(ex))\n",
    "    elif user_input == cn.GET_BY_YEAR_OPTION:\n",
    "        year = user_interface.get_user_input(\"Input year: \")\n",
    "        try:\n",
    "            films = sakila_service.get_films_by_year(int(year))\n",
    "            user_interface.print_films(films)\n",
    "        except Exception as ex:\n",
    "            user_interface.print_error(str(ex))\n",
    "    elif user_input == cn.GET_TOP_10_SEARCH_QUERIES:\n",
    "        try:\n",
    "            search_queries = sakila_service.get_top_10_search_queries()\n",
    "            user_interface.print_search_queries(search_queries)\n",
    "        except Exception as ex:\n",
    "            user_interface.print_error(str(ex))\n",
    "    elif user_input == cn.EXIT_OPTION:\n",
    "        break\n",
    "    else:\n",
    "        user_interface.print_error(\"Wrong input!\")\n",
    "\n",
    "sakila_service.close()"
   ]
  },
  {
   "cell_type": "code",
   "execution_count": null,
   "id": "6298f273-9e03-445c-badc-d46276331b7d",
   "metadata": {},
   "outputs": [],
   "source": []
  }
 ],
 "metadata": {
  "kernelspec": {
   "display_name": "Python 3 (ipykernel)",
   "language": "python",
   "name": "python3"
  },
  "language_info": {
   "codemirror_mode": {
    "name": "ipython",
    "version": 3
   },
   "file_extension": ".py",
   "mimetype": "text/x-python",
   "name": "python",
   "nbconvert_exporter": "python",
   "pygments_lexer": "ipython3",
   "version": "3.12.5"
  }
 },
 "nbformat": 4,
 "nbformat_minor": 5
}
