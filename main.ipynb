{
 "cells": [
  {
   "cell_type": "code",
   "execution_count": 1,
   "id": "ebaa8bdc-b46b-4f37-bff4-7eec84604c87",
   "metadata": {},
   "outputs": [
    {
     "name": "stdout",
     "output_type": "stream",
     "text": [
      "MENU\n",
      "[1] Get films by title\n",
      "[2] Get films by genre\n",
      "[3] Get films by year\n",
      "[4] Get top 10 search queries\n",
      "[0] Exit\n"
     ]
    },
    {
     "name": "stdin",
     "output_type": "stream",
     "text": [
      ">>  4\n"
     ]
    },
    {
     "name": "stdout",
     "output_type": "stream",
     "text": [
      "Query by year where year is 2000 - 5 times\n",
      "Query by title with key 'home' - 5 times\n",
      "Query by genre with name 'Action' - 4 times\n",
      "Query by title with key 'hello' - 3 times\n",
      "Query by year where year is 2001 - 2 times\n",
      "Query by year where year is 2002 - 2 times\n",
      "Query by title with key 'terminator' - 2 times\n",
      "Query by title with key 'ali' - 2 times\n",
      "Query by genre with name 'Music' - 2 times\n",
      "Query by title with key 'vonka' - 1 times\n",
      "MENU\n",
      "[1] Get films by title\n",
      "[2] Get films by genre\n",
      "[3] Get films by year\n",
      "[4] Get top 10 search queries\n",
      "[0] Exit\n"
     ]
    },
    {
     "name": "stdin",
     "output_type": "stream",
     "text": [
      ">>  3\n",
      "Input year:  2001\n"
     ]
    },
    {
     "name": "stdout",
     "output_type": "stream",
     "text": [
      "ANYTHING SAVANNAH\n",
      "CIRCUS YOUTH\n",
      "CLYDE THEORY\n",
      "COLDBLOODED DARLING\n",
      "DAZED PUNK\n",
      "EGYPT TENENBAUMS\n",
      "FREDDY STORM\n",
      "JAPANESE RUN\n",
      "MADIGAN DORADO\n",
      "MATRIX SNOWMAN\n"
     ]
    },
    {
     "name": "stdin",
     "output_type": "stream",
     "text": [
      "Do you want to see next page? [Yes]:  no\n"
     ]
    },
    {
     "name": "stdout",
     "output_type": "stream",
     "text": [
      "MENU\n",
      "[1] Get films by title\n",
      "[2] Get films by genre\n",
      "[3] Get films by year\n",
      "[4] Get top 10 search queries\n",
      "[0] Exit\n"
     ]
    },
    {
     "name": "stdin",
     "output_type": "stream",
     "text": [
      ">>  4\n"
     ]
    },
    {
     "name": "stdout",
     "output_type": "stream",
     "text": [
      "Query by year where year is 2000 - 5 times\n",
      "Query by title with key 'home' - 5 times\n",
      "Query by genre with name 'Action' - 4 times\n",
      "Query by year where year is 2001 - 3 times\n",
      "Query by title with key 'hello' - 3 times\n",
      "Query by year where year is 2002 - 2 times\n",
      "Query by title with key 'terminator' - 2 times\n",
      "Query by title with key 'ali' - 2 times\n",
      "Query by genre with name 'Music' - 2 times\n",
      "Query by title with key 'vonka' - 1 times\n",
      "MENU\n",
      "[1] Get films by title\n",
      "[2] Get films by genre\n",
      "[3] Get films by year\n",
      "[4] Get top 10 search queries\n",
      "[0] Exit\n"
     ]
    },
    {
     "name": "stdin",
     "output_type": "stream",
     "text": [
      ">>  2\n"
     ]
    },
    {
     "name": "stdout",
     "output_type": "stream",
     "text": [
      "[1] Action\n",
      "[2] Animation\n",
      "[3] Children\n",
      "[4] Classics\n",
      "[5] Comedy\n",
      "[6] Documentary\n",
      "[7] Drama\n",
      "[8] Family\n",
      "[9] Foreign\n",
      "[10] Games\n",
      "[11] Horror\n",
      "[12] Music\n",
      "[13] New\n",
      "[14] Sci-Fi\n",
      "[15] Sports\n",
      "[16] Travel\n"
     ]
    },
    {
     "name": "stdin",
     "output_type": "stream",
     "text": [
      "Input genre id:  12\n"
     ]
    },
    {
     "name": "stdout",
     "output_type": "stream",
     "text": [
      "ALASKA PHANTOM\n",
      "ALONE TRIP\n",
      "AMELIE HELLFIGHTERS\n",
      "BALLOON HOMEWARD\n",
      "BANGER PINOCCHIO\n",
      "BIRCH ANTITRUST\n",
      "BIRDCAGE CASPER\n",
      "BOOGIE AMELIE\n",
      "CHAMBER ITALIAN\n",
      "CLONES PINOCCHIO\n"
     ]
    },
    {
     "name": "stdin",
     "output_type": "stream",
     "text": [
      "Do you want to see next page? [Yes]:  \n"
     ]
    },
    {
     "name": "stdout",
     "output_type": "stream",
     "text": [
      "CLUE GRAIL\n",
      "CONFIDENTIAL INTERVIEW\n",
      "DEER VIRGINIAN\n",
      "DORADO NOTTING\n",
      "DRIVING POLISH\n",
      "ELF MURDER\n",
      "ENEMY ODDS\n",
      "FREAKY POCUS\n",
      "GO PURPLE\n",
      "GREATEST NORTH\n"
     ]
    },
    {
     "name": "stdin",
     "output_type": "stream",
     "text": [
      "Do you want to see next page? [Yes]:  \n"
     ]
    },
    {
     "name": "stdout",
     "output_type": "stream",
     "text": [
      "GROSSE WONDERFUL\n",
      "HANOVER GALAXY\n",
      "HEAVENLY GUN\n",
      "HOME PITY\n",
      "IMPACT ALADDIN\n",
      "INSIDER ARIZONA\n",
      "JAWBREAKER BROOKLYN\n",
      "LEGEND JEDI\n",
      "LUCKY FLYING\n",
      "MASKED BUBBLE\n"
     ]
    },
    {
     "name": "stdin",
     "output_type": "stream",
     "text": [
      "Do you want to see next page? [Yes]:  \n"
     ]
    },
    {
     "name": "stdout",
     "output_type": "stream",
     "text": [
      "MINORITY KISS\n",
      "MONSTER SPARTACUS\n",
      "OLEANDER CLUE\n",
      "OUTFIELD MASSACRE\n",
      "PERSONAL LADYBUGS\n",
      "REBEL AIRPORT\n",
      "REDS POCUS\n",
      "ROMAN PUNK\n",
      "RUNNER MADIGAN\n",
      "SCALAWAG DUCK\n"
     ]
    },
    {
     "name": "stdin",
     "output_type": "stream",
     "text": [
      "Do you want to see next page? [Yes]:  \n"
     ]
    },
    {
     "name": "stdout",
     "output_type": "stream",
     "text": [
      "SILENCE KANE\n",
      "SONG HEDWIG\n",
      "TAXI KICK\n",
      "TELEGRAPH VOYAGE\n",
      "TERMINATOR CLUB\n",
      "UNCUT SUICIDES\n",
      "VANISHING ROCKY\n",
      "WIZARD COLDBLOODED\n",
      "WON DARES\n",
      "WORDS HUNTER\n"
     ]
    },
    {
     "name": "stdin",
     "output_type": "stream",
     "text": [
      "Do you want to see next page? [Yes]:  \n"
     ]
    },
    {
     "name": "stdout",
     "output_type": "stream",
     "text": [
      "YOUTH KICK\n",
      "MENU\n",
      "[1] Get films by title\n",
      "[2] Get films by genre\n",
      "[3] Get films by year\n",
      "[4] Get top 10 search queries\n",
      "[0] Exit\n"
     ]
    },
    {
     "name": "stdin",
     "output_type": "stream",
     "text": [
      ">>  4\n"
     ]
    },
    {
     "name": "stdout",
     "output_type": "stream",
     "text": [
      "Query by year where year is 2000 - 5 times\n",
      "Query by title with key 'home' - 5 times\n",
      "Query by genre with name 'Action' - 4 times\n",
      "Query by year where year is 2001 - 3 times\n",
      "Query by genre with name 'Music' - 3 times\n",
      "Query by title with key 'hello' - 3 times\n",
      "Query by year where year is 2002 - 2 times\n",
      "Query by title with key 'terminator' - 2 times\n",
      "Query by title with key 'ali' - 2 times\n",
      "Query by title with key 'vonka' - 1 times\n",
      "MENU\n",
      "[1] Get films by title\n",
      "[2] Get films by genre\n",
      "[3] Get films by year\n",
      "[4] Get top 10 search queries\n",
      "[0] Exit\n"
     ]
    },
    {
     "name": "stdin",
     "output_type": "stream",
     "text": [
      ">>  0\n"
     ]
    }
   ],
   "source": [
    "import os\n",
    "from dotenv import load_dotenv\n",
    "from db import SakilaService  # Import the database service class\n",
    "from ui import UserInterface  # Import the user interface class\n",
    "import constants as cn\n",
    "\n",
    "load_dotenv()\n",
    "\n",
    "config = {\n",
    "    \"host\": os.getenv(\"DB_HOST\"),\n",
    "    \"user\": os.getenv(\"DB_USER\"),\n",
    "    \"password\": os.getenv(\"DB_PASSWORD\"),\n",
    "    \"database\": os.getenv(\"DB_NAME\")\n",
    "}\n",
    "\n",
    "\n",
    "def main() -> int:\n",
    "    \"\"\"\n",
    "    Main function for the film searching application.\n",
    "\n",
    "    Handles the main program loop, user interactions, and database operations.\n",
    "\n",
    "    Returns:\n",
    "    - int: Exit code (0 for success, -1 for failure).\n",
    "    \"\"\"\n",
    "    user_interface = UserInterface()  # Create a UserInterface object\n",
    "\n",
    "    sakila_service = None\n",
    "    try:\n",
    "        sakila_service = SakilaService(config)  # Create a database service object\n",
    "        sakila_service.connect()  # Establish a connection to the database\n",
    "    except Exception as ex:\n",
    "        user_interface.print_error(\"Connection failure!\")\n",
    "        return -1\n",
    "\n",
    "    while True:\n",
    "        user_interface.print_menu()  # Display the main menu\n",
    "        user_input = user_interface.get_user_input().strip()\n",
    "\n",
    "        if user_input == cn.GET_BY_TITLE_OPTION:\n",
    "            # Get films by title option\n",
    "            title = user_interface.get_user_input(\"Input title: \")\n",
    "            if \"'\" in title:\n",
    "                user_interface.print_error(\"Title can't contain \\\"'\\\" symbol!\")\n",
    "                continue\n",
    "            try:\n",
    "                films = sakila_service.get_films_by_title(title.lower())\n",
    "                user_interface.print_films(films)\n",
    "            except Exception as ex:\n",
    "                user_interface.print_error(str(ex))\n",
    "\n",
    "        elif user_input == cn.GET_BY_GENRE_OPTION:\n",
    "            # Get films by genre option\n",
    "            try:\n",
    "                genres = sakila_service.get_genres()\n",
    "                user_interface.print_genres(genres)\n",
    "            except Exception as ex:\n",
    "                user_interface.print_error(str(ex))\n",
    "                continue\n",
    "            try:\n",
    "                genre_id = int(user_interface.get_user_input(\"Input genre id: \"))\n",
    "                genre_name = None\n",
    "                for genre in genres:\n",
    "                    if genre[\"category_id\"] == genre_id:\n",
    "                        genre_name = genre[\"name\"]\n",
    "                        break\n",
    "                if not genre_name:\n",
    "                    user_interface.print_error(\"This genre number is not exist!\")\n",
    "                    continue\n",
    "                films = sakila_service.get_films_by_genre(genre_id, genre_name)\n",
    "                user_interface.print_films(films)\n",
    "            except ValueError as ex:\n",
    "                user_interface.print_error(\"Genre id is must be a number!\")\n",
    "            except Exception as ex:\n",
    "                user_interface.print_error(str(ex))\n",
    "\n",
    "        elif user_input == cn.GET_BY_YEAR_OPTION:\n",
    "            # Get films by year option\n",
    "            try:\n",
    "                year = int(user_interface.get_user_input(\"Input year: \"))\n",
    "                films = sakila_service.get_films_by_year(year)\n",
    "                user_interface.print_films(films)\n",
    "            except ValueError as ex:\n",
    "                user_interface.print_error(\"Year is must be a number!\")\n",
    "            except Exception as ex:\n",
    "                user_interface.print_error(str(ex))\n",
    "\n",
    "        elif user_input == cn.GET_TOP_10_SEARCH_QUERIES:\n",
    "            # Get top 10 search queries option\n",
    "            try:\n",
    "                search_queries = sakila_service.get_top_10_search_queries()\n",
    "                user_interface.print_search_queries(search_queries)\n",
    "            except Exception as ex:\n",
    "                user_interface.print_error(str(ex))\n",
    "\n",
    "        elif user_input == cn.EXIT_OPTION:\n",
    "            # Exit the program\n",
    "            break\n",
    "\n",
    "        else:\n",
    "            user_interface.print_error(\"Wrong input!\")\n",
    "\n",
    "    sakila_service.close()  # Close the database connection\n",
    "    return 0\n",
    "\n",
    "\n",
    "if __name__ == \"__main__\":\n",
    "    exit(main())\n"
   ]
  },
  {
   "cell_type": "code",
   "execution_count": null,
   "id": "965a26d5-1847-41c9-8133-2ec93b6e0941",
   "metadata": {},
   "outputs": [],
   "source": []
  }
 ],
 "metadata": {
  "kernelspec": {
   "display_name": "Python 3 (ipykernel)",
   "language": "python",
   "name": "python3"
  },
  "language_info": {
   "codemirror_mode": {
    "name": "ipython",
    "version": 3
   },
   "file_extension": ".py",
   "mimetype": "text/x-python",
   "name": "python",
   "nbconvert_exporter": "python",
   "pygments_lexer": "ipython3",
   "version": "3.12.5"
  }
 },
 "nbformat": 4,
 "nbformat_minor": 5
}
